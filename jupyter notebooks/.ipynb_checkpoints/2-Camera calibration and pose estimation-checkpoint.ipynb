{
  "cells": [
    {
      "metadata": {},
      "cell_type": "markdown",
      "source": "# Calibration\nIn order to estimate markers' pose we need to find the ???? matrix\n\n\\begin{bmatrix}\n1 & 2 & 3\\\\\na & b & c\n\\end{bmatrix}"
    },
    {
      "metadata": {},
      "cell_type": "markdown",
      "source": "First we need to install all required modules"
    },
    {
      "metadata": {
        "trusted": true
      },
      "cell_type": "code",
      "source": "!pip3 install -r requirements.txt",
      "execution_count": 3,
      "outputs": [
        {
          "output_type": "stream",
          "text": "Requirement already satisfied: cycler==0.10.0 in /home/nbuser/anaconda3_501/lib/python3.6/site-packages (from -r requirements.txt (line 1)) (0.10.0)\nCollecting kiwisolver==1.2.0\n\u001b[?25l  Downloading https://files.pythonhosted.org/packages/ae/23/147de658aabbf968324551ea22c0c13a00284c4ef49a77002e91f79657b7/kiwisolver-1.2.0-cp36-cp36m-manylinux1_x86_64.whl (88kB)\n\u001b[K     |████████████████████████████████| 92kB 846kB/s eta 0:00:011\n\u001b[?25hCollecting matplotlib==3.2.1\n\u001b[?25l  Downloading https://files.pythonhosted.org/packages/93/4b/52da6b1523d5139d04e02d9e26ceda6146b48f2a4e5d2abfdf1c7bac8c40/matplotlib-3.2.1-cp36-cp36m-manylinux1_x86_64.whl (12.4MB)\n\u001b[K     |████████████████████████████████| 12.4MB 270kB/s eta 0:00:01    |██████████▊                     | 4.2MB 4.2MB/s eta 0:00:02     |█████████████▋                  | 5.3MB 4.2MB/s eta 0:00:02��███████████████████████████ | 12.0MB 4.2MB/s eta 0:00:01\n\u001b[?25hRequirement already satisfied: numpy==1.18.4 in /home/nbuser/anaconda3_501/lib/python3.6/site-packages (from -r requirements.txt (line 4)) (1.18.4)\nRequirement already satisfied: opencv-contrib-python==4.2.0.34 in /home/nbuser/anaconda3_501/lib/python3.6/site-packages (from -r requirements.txt (line 5)) (4.2.0.34)\nCollecting pandas==1.0.3\n\u001b[?25l  Downloading https://files.pythonhosted.org/packages/bb/71/8f53bdbcbc67c912b888b40def255767e475402e9df64050019149b1a943/pandas-1.0.3-cp36-cp36m-manylinux1_x86_64.whl (10.0MB)\n\u001b[K     |████████████████████████████████| 10.0MB 6.9MB/s eta 0:00:01�   | 9.1MB 6.9MB/s eta 0:00:01\n\u001b[?25hCollecting Pillow==7.1.2\n\u001b[?25l  Downloading https://files.pythonhosted.org/packages/e0/50/8e78e6f62ffa50d6ca95c281d5a2819bef66d023ac1b723e253de5bda9c5/Pillow-7.1.2-cp36-cp36m-manylinux1_x86_64.whl (2.1MB)\n\u001b[K     |████████████████████████████████| 2.1MB 11.4MB/s eta 0:00:01\n\u001b[?25hRequirement already satisfied: pyparsing==2.4.7 in /home/nbuser/anaconda3_501/lib/python3.6/site-packages (from -r requirements.txt (line 8)) (2.4.7)\nRequirement already satisfied: python-dateutil==2.8.1 in /home/nbuser/anaconda3_501/lib/python3.6/site-packages (from -r requirements.txt (line 9)) (2.8.1)\nCollecting pytz==2020.1\n\u001b[?25l  Downloading https://files.pythonhosted.org/packages/4f/a4/879454d49688e2fad93e59d7d4efda580b783c745fd2ec2a3adf87b0808d/pytz-2020.1-py2.py3-none-any.whl (510kB)\n\u001b[K     |████████████████████████████████| 512kB 34.9MB/s eta 0:00:01\n\u001b[?25hRequirement already satisfied: six==1.14.0 in /home/nbuser/anaconda3_501/lib/python3.6/site-packages (from -r requirements.txt (line 11)) (1.14.0)\n\u001b[31mERROR: azureml-train-automl 1.0.72 has requirement numpy<=1.16.2,>=1.16.0, but you'll have numpy 1.18.4 which is incompatible.\u001b[0m\n\u001b[31mERROR: azureml-train-automl 1.0.72 has requirement onnxmltools==1.4.1, but you'll have onnxmltools 1.6.0 which is incompatible.\u001b[0m\n\u001b[31mERROR: azureml-train-automl 1.0.72 has requirement pandas<=0.23.4,>=0.21.0, but you'll have pandas 1.0.3 which is incompatible.\u001b[0m\n\u001b[31mERROR: azureml-opendatasets 1.0.72.1 has requirement numpy<=1.16.2,>=1.11.0, but you'll have numpy 1.18.4 which is incompatible.\u001b[0m\n\u001b[31mERROR: azureml-opendatasets 1.0.72.1 has requirement pandas<=0.23.4,>=0.21.0, but you'll have pandas 1.0.3 which is incompatible.\u001b[0m\n\u001b[31mERROR: azureml-automl-core 1.0.72.1 has requirement numpy<=1.16.2,>=1.16.0, but you'll have numpy 1.18.4 which is incompatible.\u001b[0m\n\u001b[31mERROR: azureml-automl-core 1.0.72.1 has requirement onnxmltools==1.4.1, but you'll have onnxmltools 1.6.0 which is incompatible.\u001b[0m\n\u001b[31mERROR: azureml-automl-core 1.0.72.1 has requirement pandas<=0.23.4,>=0.21.0, but you'll have pandas 1.0.3 which is incompatible.\u001b[0m\nInstalling collected packages: kiwisolver, matplotlib, pytz, pandas, Pillow\n  Found existing installation: kiwisolver 1.0.1\n    Uninstalling kiwisolver-1.0.1:\n      Successfully uninstalled kiwisolver-1.0.1\n  Found existing installation: matplotlib 3.0.0\n    Uninstalling matplotlib-3.0.0:\n      Successfully uninstalled matplotlib-3.0.0\n  Found existing installation: pytz 2019.3\n    Uninstalling pytz-2019.3:\n      Successfully uninstalled pytz-2019.3\n  Found existing installation: pandas 0.23.4\n    Uninstalling pandas-0.23.4:\n      Successfully uninstalled pandas-0.23.4\n  Found existing installation: Pillow 5.3.0\n    Uninstalling Pillow-5.3.0:\n      Successfully uninstalled Pillow-5.3.0\nSuccessfully installed Pillow-7.1.2 kiwisolver-1.2.0 matplotlib-3.2.1 pandas-1.0.3 pytz-2020.1\n\u001b[33mWARNING: You are using pip version 19.3.1; however, version 20.1.1 is available.\nYou should consider upgrading via the 'pip install --upgrade pip' command.\u001b[0m\n",
          "name": "stdout"
        }
      ]
    },
    {
      "metadata": {},
      "cell_type": "markdown",
      "source": ""
    },
    {
      "metadata": {
        "trusted": true
      },
      "cell_type": "code",
      "source": "",
      "execution_count": null,
      "outputs": []
    }
  ],
  "metadata": {
    "kernelspec": {
      "name": "python36",
      "display_name": "Python 3.6",
      "language": "python"
    },
    "language_info": {
      "mimetype": "text/x-python",
      "nbconvert_exporter": "python",
      "name": "python",
      "pygments_lexer": "ipython3",
      "version": "3.6.6",
      "file_extension": ".py",
      "codemirror_mode": {
        "version": 3,
        "name": "ipython"
      }
    }
  },
  "nbformat": 4,
  "nbformat_minor": 2
}