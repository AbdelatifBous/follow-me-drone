{
  "cells": [
    {
      "metadata": {},
      "cell_type": "markdown",
      "source": "# Camera calibration\nIn order to estimate markers' pose first we need to find the <b>camera matrix</b> and the <b>distortion coefficients</b>. Both are intrinsic camera parameters, so calibration has to be performed only once.\n\nsources:<br>\nhttps://it.mathworks.com/help/vision/ug/camera-calibration.html <br>\nhttps://docs.opencv.org/2.4/modules/calib3d/doc/camera_calibration_and_3d_reconstruction.html"
    },
    {
      "metadata": {},
      "cell_type": "markdown",
      "source": "## Setup"
    },
    {
      "metadata": {
        "trusted": true
      },
      "cell_type": "code",
      "source": "!pip3 install -r requirements.txt\n",
      "execution_count": 3,
      "outputs": [
        {
          "output_type": "stream",
          "text": "Requirement already satisfied: cycler==0.10.0 in /home/nbuser/anaconda3_501/lib/python3.6/site-packages (from -r requirements.txt (line 1)) (0.10.0)\nCollecting kiwisolver==1.2.0\n\u001b[?25l  Downloading https://files.pythonhosted.org/packages/ae/23/147de658aabbf968324551ea22c0c13a00284c4ef49a77002e91f79657b7/kiwisolver-1.2.0-cp36-cp36m-manylinux1_x86_64.whl (88kB)\n\u001b[K     |████████████████████████████████| 92kB 524kB/s eta 0:00:01\n\u001b[?25hCollecting matplotlib==3.2.1\n\u001b[?25l  Downloading https://files.pythonhosted.org/packages/93/4b/52da6b1523d5139d04e02d9e26ceda6146b48f2a4e5d2abfdf1c7bac8c40/matplotlib-3.2.1-cp36-cp36m-manylinux1_x86_64.whl (12.4MB)\n\u001b[K     |████████████████████████████████| 12.4MB 34kB/s  eta 0:00:01    |██                              | 778kB 4.6MB/s eta 0:00:03     |█████████████████████▌          | 8.3MB 3.2MB/s eta 0:00:02\n\u001b[?25hCollecting numpy==1.18.4\n\u001b[?25l  Downloading https://files.pythonhosted.org/packages/03/27/e35e7c6e6a52fab9fcc64fc2b20c6b516eba930bb02b10ace3b38200d3ab/numpy-1.18.4-cp36-cp36m-manylinux1_x86_64.whl (20.2MB)\n\u001b[K     |████████████████████████████████| 20.2MB 45kB/s eta 0:00:011    |████████████▊                   | 8.0MB 399kB/s eta 0:00:31     |████████████████████▋           | 13.0MB 606kB/s eta 0:00:12     |██████████████████████          | 13.9MB 606kB/s eta 0:00:11:00:02     |████████████████████████▉       | 15.7MB 5.1MB/s eta 0:00:01\n\u001b[?25hCollecting opencv-contrib-python==4.2.0.34\n\u001b[?25l  Downloading https://files.pythonhosted.org/packages/c6/db/790dbc6bcfea87fc6f790c6306509c2691ce31c96d82e5b826545d90ea52/opencv_contrib_python-4.2.0.34-cp36-cp36m-manylinux1_x86_64.whl (34.2MB)\n\u001b[K     |████████████████████████████████| 34.2MB 14kB/s  eta 0:00:01119.5MB 64kB/s eta 0:03:47��█████████▊            | 21.1MB 64kB/s eta 0:03:22       | 23.6MB 64kB/s eta 0:02:43��▍       | 26.1MB 1.9MB/s eta 0:00:05��████████████████████▎     | 28.0MB 5.5MB/s eta 0:00:02█████████████████████████     | 28.8MB 5.5MB/s eta 0:00:01��█████   | 31.0MB 2.0MB/s eta 0:00:02��█████████████▎  | 31.2MB 2.0MB/s eta 0:00:02��███████████████▍  | 31.4MB 2.0MB/s eta 0:00:02     |█████████████████████████████▉  | 31.8MB 2.0MB/s eta 0:00:02████████████████████▋ | 32.7MB 2.0MB/s eta 0:00:01     |███████████████████████████████▌| 33.7MB 2.0MB/s eta 0:00:01ta 0:00:01\n\u001b[?25hCollecting pandas==1.0.3\n\u001b[?25l  Downloading https://files.pythonhosted.org/packages/bb/71/8f53bdbcbc67c912b888b40def255767e475402e9df64050019149b1a943/pandas-1.0.3-cp36-cp36m-manylinux1_x86_64.whl (10.0MB)\n\u001b[K     |████████████████████████████████| 10.0MB 77kB/s s eta 0:00:01\n\u001b[?25hCollecting Pillow==7.1.2\n\u001b[?25l  Downloading https://files.pythonhosted.org/packages/e0/50/8e78e6f62ffa50d6ca95c281d5a2819bef66d023ac1b723e253de5bda9c5/Pillow-7.1.2-cp36-cp36m-manylinux1_x86_64.whl (2.1MB)\n\u001b[K     |████████████████████████████████| 2.1MB 4.8MB/s eta 0:00:017MB 4.8MB/s eta 0:00:01\n\u001b[?25hCollecting pyparsing==2.4.7\n\u001b[?25l  Downloading https://files.pythonhosted.org/packages/8a/bb/488841f56197b13700afd5658fc279a2025a39e22449b7cf29864669b15d/pyparsing-2.4.7-py2.py3-none-any.whl (67kB)\n\u001b[K     |████████████████████████████████| 71kB 872kB/s eta 0:00:011\n\u001b[?25hRequirement already satisfied: python-dateutil==2.8.1 in /home/nbuser/anaconda3_501/lib/python3.6/site-packages (from -r requirements.txt (line 9)) (2.8.1)\nCollecting pytz==2020.1\n\u001b[?25l  Downloading https://files.pythonhosted.org/packages/4f/a4/879454d49688e2fad93e59d7d4efda580b783c745fd2ec2a3adf87b0808d/pytz-2020.1-py2.py3-none-any.whl (510kB)\n\u001b[K     |████████████████████████████████| 512kB 14.4MB/s eta 0:00:01\n\u001b[?25hCollecting six==1.14.0\n  Downloading https://files.pythonhosted.org/packages/65/eb/1f97cb97bfc2390a276969c6fae16075da282f5058082d4cb10c6c5c1dba/six-1.14.0-py2.py3-none-any.whl\n\u001b[31mERROR: paramiko 2.6.0 has requirement cryptography>=2.5, but you'll have cryptography 2.3.1 which is incompatible.\u001b[0m\n\u001b[31mERROR: papermill 1.2.1 has requirement tqdm>=4.32.2, but you'll have tqdm 4.26.0 which is incompatible.\u001b[0m\n\u001b[31mERROR: azureml-train-automl 1.0.72 has requirement numpy<=1.16.2,>=1.16.0, but you'll have numpy 1.18.4 which is incompatible.\u001b[0m\n\u001b[31mERROR: azureml-train-automl 1.0.72 has requirement onnxmltools==1.4.1, but you'll have onnxmltools 1.6.0 which is incompatible.\u001b[0m\n\u001b[31mERROR: azureml-train-automl 1.0.72 has requirement pandas<=0.23.4,>=0.21.0, but you'll have pandas 1.0.3 which is incompatible.\u001b[0m\n\u001b[31mERROR: azureml-opendatasets 1.0.72.1 has requirement numpy<=1.16.2,>=1.11.0, but you'll have numpy 1.18.4 which is incompatible.\u001b[0m\n\u001b[31mERROR: azureml-opendatasets 1.0.72.1 has requirement pandas<=0.23.4,>=0.21.0, but you'll have pandas 1.0.3 which is incompatible.\u001b[0m\n\u001b[31mERROR: azureml-automl-core 1.0.72.1 has requirement numpy<=1.16.2,>=1.16.0, but you'll have numpy 1.18.4 which is incompatible.\u001b[0m\n\u001b[31mERROR: azureml-automl-core 1.0.72.1 has requirement onnxmltools==1.4.1, but you'll have onnxmltools 1.6.0 which is incompatible.\u001b[0m\n\u001b[31mERROR: azureml-automl-core 1.0.72.1 has requirement pandas<=0.23.4,>=0.21.0, but you'll have pandas 1.0.3 which is incompatible.\u001b[0m\nInstalling collected packages: kiwisolver, numpy, pyparsing, matplotlib, opencv-contrib-python, pytz, pandas, Pillow, six\n  Found existing installation: kiwisolver 1.0.1\n    Uninstalling kiwisolver-1.0.1:\n      Successfully uninstalled kiwisolver-1.0.1\n  Found existing installation: numpy 1.16.2\n    Uninstalling numpy-1.16.2:\n      Successfully uninstalled numpy-1.16.2\n  Found existing installation: pyparsing 2.3.0\n    Uninstalling pyparsing-2.3.0:\n      Successfully uninstalled pyparsing-2.3.0\n  Found existing installation: matplotlib 3.0.0\n    Uninstalling matplotlib-3.0.0:\n      Successfully uninstalled matplotlib-3.0.0\n  Found existing installation: pytz 2019.3\n    Uninstalling pytz-2019.3:\n      Successfully uninstalled pytz-2019.3\n  Found existing installation: pandas 0.23.4\n    Uninstalling pandas-0.23.4:\n      Successfully uninstalled pandas-0.23.4\n  Found existing installation: Pillow 5.3.0\n    Uninstalling Pillow-5.3.0:\n      Successfully uninstalled Pillow-5.3.0\n  Found existing installation: six 1.11.0\n    Uninstalling six-1.11.0:\n      Successfully uninstalled six-1.11.0\nSuccessfully installed Pillow-7.1.2 kiwisolver-1.2.0 matplotlib-3.2.1 numpy-1.18.4 opencv-contrib-python-4.2.0.34 pandas-1.0.3 pyparsing-2.4.7 pytz-2020.1 six-1.14.0\n\u001b[33mWARNING: You are using pip version 19.3.1; however, version 20.1.1 is available.\nYou should consider upgrading via the 'pip install --upgrade pip' command.\u001b[0m\n",
          "name": "stdout"
        }
      ]
    },
    {
      "metadata": {},
      "cell_type": "markdown",
      "source": "## ArUco Chessboard generation"
    },
    {
      "metadata": {
        "trusted": true
      },
      "cell_type": "code",
      "source": "import numpy as np\nimport cv2, PIL\nfrom cv2 import aruco\nfrom mpl_toolkits.mplot3d import Axes3D\nimport matplotlib.pyplot as plt\nimport matplotlib as mpl\nimport pandas as pd\nfrom IPython.display import display, Math\nprint(\"import completed\")",
      "execution_count": 4,
      "outputs": []
    },
    {
      "metadata": {
        "trusted": true
      },
      "cell_type": "code",
      "source": "\nworkdir = \"./markers/\"\naruco_dict = aruco.Dictionary_get(aruco.DICT_6X6_250)\nboard = aruco.CharucoBoard_create(7, 5, 1, .8, aruco_dict)\nimboard = board.draw((2000, 2000))\ncv2.imwrite(workdir + \"chessboard.png\", imboard)\nfig = plt.figure()\nax = fig.add_subplot(1,1,1)\nplt.imshow(imboard, cmap = mpl.cm.gray, interpolation = \"nearest\")\nax.axis(\"off\")\nplt.show()",
      "execution_count": 5,
      "outputs": [
        {
          "output_type": "display_data",
          "data": {
            "image/png": "[encoded data removed]",
            "text/plain": "<Figure size 432x288 with 1 Axes>"
          },
          "metadata": {
            "needs_background": "light"
          }
        }
      ]
    },
    {
      "metadata": {
        "trusted": true
      },
      "cell_type": "markdown",
      "source": "## Calibration\nAfter printing the charuco board we need to take several pictures of the board with the camera that we want to calibrate"
    },
    {
      "metadata": {
        "trusted": true
      },
      "cell_type": "code",
      "source": "import numpy as np\nimport cv2, PIL, os\nfrom cv2 import aruco\nimport matplotlib.pyplot as plt\n\naruco_dict = aruco.Dictionary_get(aruco.DICT_6X6_250)\nboard = aruco.CharucoBoard_create(7, 5, 1, .8, aruco_dict)\ndatadir = \"./drone calibration photos/\"\n\nimages = np.array([datadir + f for f in os.listdir(datadir) if f.endswith(\".png\") ])\n\n\ndef read_chessboards(images):\n    \"\"\"\n    Charuco base pose estimation.\n    \"\"\"\n    print(\"POSE ESTIMATION STARTED...\")\n    allCorners = []\n    allIds = []\n    decimator = 0\n    # SUB PIXEL CORNER DETECTION CRITERION\n    criteria = (cv2.TERM_CRITERIA_EPS + cv2.TERM_CRITERIA_MAX_ITER, 100, 0.00001)\n\n    for im in images:\n        # print(\"=> Processing image {0}\".format(im))\n        print('.', end=\"\")\n        frame = cv2.imread(im)\n        gray = cv2.cvtColor(frame, cv2.COLOR_BGR2GRAY)\n        corners, ids, rejectedImgPoints = cv2.aruco.detectMarkers(gray, aruco_dict)\n\n        if len(corners)>0:\n            # SUB PIXEL DETECTION\n            for corner in corners:\n                cv2.cornerSubPix(gray, corner,\n                                 winSize = (3,3),\n                                 zeroZone = (-1,-1),\n                                 criteria = criteria)\n            res2 = cv2.aruco.interpolateCornersCharuco(corners,ids,gray,board)\n            if res2[1] is not None and res2[2] is not None and len(res2[1])>3 and decimator%1==0:\n                allCorners.append(res2[1])\n                allIds.append(res2[2])\n\n        decimator+=1\n\n    imsize = gray.shape\n    return allCorners,allIds,imsize\n\nallCorners,allIds,imsize=read_chessboards(images)\n\n\ndef calibrate_camera(allCorners,allIds,imsize):\n    \"\"\"\n    Calibrates the camera using the dected corners.\n    \"\"\"\n\n    cameraMatrixInit = np.array([[ 1000.,    0., imsize[0]/2.],\n                                 [    0., 1000., imsize[1]/2.],\n                                 [    0.,    0.,           1.]])\n\n    distCoeffsInit = np.zeros((5,1))\n    flags = (cv2.CALIB_USE_INTRINSIC_GUESS + cv2.CALIB_RATIONAL_MODEL + cv2.CALIB_FIX_ASPECT_RATIO)\n    #flags = (cv2.CALIB_RATIONAL_MODEL)\n    (ret, camera_matrix, distortion_coefficients0,\n     rotation_vectors, translation_vectors,\n     stdDeviationsIntrinsics, stdDeviationsExtrinsics,\n     perViewErrors) = cv2.aruco.calibrateCameraCharucoExtended(\n                      charucoCorners=allCorners,\n                      charucoIds=allIds,\n                      board=board,\n                      imageSize=imsize,\n                      cameraMatrix=cameraMatrixInit,\n                      distCoeffs=distCoeffsInit,\n                      flags=flags,\n                      criteria=(cv2.TERM_CRITERIA_EPS & cv2.TERM_CRITERIA_COUNT, 10000, 1e-9))\n\n    return ret, camera_matrix, distortion_coefficients0, rotation_vectors, translation_vectors\n\n\nret, mtx, dist, rvecs, tvecs = calibrate_camera(allCorners,allIds,imsize)\nprint(\"\\n CALIBRATION COMPLETED\")\n",
      "execution_count": 101,
      "outputs": [
        {
          "output_type": "stream",
          "text": "POSE ESTIMATION STARTED...\n.....................\n CALIBRATION COMPLETED\n",
          "name": "stdout"
        }
      ]
    },
    {
      "metadata": {
        "trusted": true
      },
      "cell_type": "markdown",
      "source": "## Results\nNow we can store these results, and use them for ArUco identification and pose estimation"
    },
    {
      "metadata": {
        "trusted": true
      },
      "cell_type": "code",
      "source": "display(Math('Camera \\hspace{1mm} matrix:'))\ndisplay(Math(r'\\begin{bmatrix}'+f'{mtx[0][0]} & {mtx[0][1]} & {mtx[0][2]}' +r' \\\\' +\n            f'{mtx[1][0]} & {mtx[1][1]} & {mtx[1][2]}' +r' \\\\' +\n             f'{mtx[2][0]} & {mtx[2][1]} & {mtx[2][2]}' +r' \\\\' + r'\\end{bmatrix}'))\n\ndisplay(Math('Distortion \\hspace{1mm} coefficients \\hspace{1mm} vector:'))\ndisplay(Math(r'\\begin{bmatrix}'+ f'{dist[0][0]} ' +r' \\\\' +\n                                 f'{dist[1][0]} ' +r' \\\\' +\n                                 f'{dist[2][0]} ' +r' \\\\' +\n                                 f'{dist[3][0]} ' +r' \\\\' +\n                                 f'{dist[4][0]} ' +r' \\\\' +\n                                 f'{dist[5][0]} ' +r' \\\\' +\n                                 f'{dist[6][0]} ' +r' \\\\' +\n                                 f'{dist[7][0]} ' +r' \\\\' +\n                                 f'{dist[8][0]} ' +r' \\\\' +\n                                 f'{dist[9][0]} ' +r' \\\\' +\n                                 f'{dist[10][0]} ' +r' \\\\' +\n                                 f'{dist[11][0]} ' +r' \\\\' +\n                                 f'{dist[12][0]} ' +r' \\\\' +\n                                 f'{dist[13][0]} ' +r' \\\\' +                                       \n                                 r'\\end{bmatrix}'))\n",
      "execution_count": 102,
      "outputs": [
        {
          "output_type": "display_data",
          "data": {
            "text/latex": "$\\displaystyle Camera \\hspace{1mm} matrix:$",
            "text/plain": "<IPython.core.display.Math object>"
          },
          "metadata": {}
        },
        {
          "output_type": "display_data",
          "data": {
            "text/latex": "$\\displaystyle \\begin{bmatrix}1742.133592126748 & 0.0 & 1271.5051442147483 \\\\0.0 & 1742.133592126748 & 1025.169816509833 \\\\0.0 & 0.0 & 1.0 \\\\\\end{bmatrix}$",
            "text/plain": "<IPython.core.display.Math object>"
          },
          "metadata": {}
        },
        {
          "output_type": "display_data",
          "data": {
            "text/latex": "$\\displaystyle Distortion \\hspace{1mm} coefficients \\hspace{1mm} vector:$",
            "text/plain": "<IPython.core.display.Math object>"
          },
          "metadata": {}
        },
        {
          "output_type": "display_data",
          "data": {
            "text/latex": "$\\displaystyle \\begin{bmatrix}-1.6968488272625417  \\\\-6.857178116359525  \\\\0.009936240144521203  \\\\0.0006201440840660519  \\\\-11.873906512981456  \\\\-1.6946071092173314  \\\\-6.9911021080195415  \\\\-11.363346413218228  \\\\0.0  \\\\0.0  \\\\0.0  \\\\0.0  \\\\0.0  \\\\0.0  \\\\\\end{bmatrix}$",
            "text/plain": "<IPython.core.display.Math object>"
          },
          "metadata": {}
        }
      ]
    },
    {
      "metadata": {
        "trusted": true
      },
      "cell_type": "code",
      "source": "",
      "execution_count": null,
      "outputs": []
    },
    {
      "metadata": {
        "trusted": true
      },
      "cell_type": "code",
      "source": "",
      "execution_count": null,
      "outputs": []
    }
  ],
  "metadata": {
    "kernelspec": {
      "name": "python36",
      "display_name": "Python 3.6",
      "language": "python"
    },
    "language_info": {
      "mimetype": "text/x-python",
      "nbconvert_exporter": "python",
      "name": "python",
      "pygments_lexer": "ipython3",
      "version": "3.6.6",
      "file_extension": ".py",
      "codemirror_mode": {
        "version": 3,
        "name": "ipython"
      }
    }
  },
  "nbformat": 4,
  "nbformat_minor": 2
}